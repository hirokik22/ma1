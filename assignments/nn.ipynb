{
 "cells": [
  {
   "cell_type": "markdown",
   "metadata": {},
   "source": [
    "# Mandatory Assignment 1\n",
    "\n",
    "#### Part I: Multi-layer Perceptron\n",
    "\n",
    "***\n",
    "\n",
    "Please see the description of the assignment in the README file (section 1) <br>\n",
    "**Guide notebook**: [material/nns_pytorch.ipynb](material/nns_pytorch.ipynb)\n",
    "\n",
    "Table of contents:\n",
    "1. Activate GPU\n",
    "2. Load data\n",
    "3. Inspect data\n",
    "4. Artificial neural network (**Where you will implement the ANN**)\n",
    "5. Training hyperparameters (**Where you will add training parameters**)\n",
    "6. Training\n",
    "7. Plot loss and accuracy\n",
    "8. Evaluate\n"
   ]
  },
  {
   "cell_type": "code",
   "execution_count": 1,
   "metadata": {},
   "outputs": [],
   "source": [
    "# auxilary imports\n",
    "import random\n",
    "import matplotlib.pyplot as plt\n",
    "import os\n",
    "from pathlib import Path\n",
    "\n",
    "# pytorch\n",
    "import torch\n",
    "import torch.nn as nn\n",
    "from torchvision import transforms\n",
    "import torch.nn.functional as F  # noqa"
   ]
  },
  {
   "cell_type": "markdown",
   "metadata": {},
   "source": [
    "First, a bit of a hack in case your IDE wants to run the notebook from /`assignment/` and not the project root folder `/ma1`. We need the working directory to be `/ma1` for local imports to work."
   ]
  },
  {
   "cell_type": "code",
   "execution_count": 2,
   "metadata": {},
   "outputs": [
    {
     "name": "stdout",
     "output_type": "stream",
     "text": [
      "Working directory set to: /Users/saad.ifty/Desktop/CBS/3rd Semester/AIML25/mas/ma1\n"
     ]
    }
   ],
   "source": [
    "# Ensure the working directory is set to the \"ma1\" folder.\n",
    "while Path.cwd().name != \"ma1\" and \"ma1\" in str(Path.cwd()):\n",
    "    os.chdir(\"..\")  # Move up one directory\n",
    "print(f\"Working directory set to: {Path.cwd()}\")"
   ]
  },
  {
   "cell_type": "markdown",
   "metadata": {},
   "source": [
    "##### Import local files\n",
    "\n",
    "To declutter the notebooks, your are given a module (`/src`) of useful functions. Please study each one as they contain important code (particularly `src.training` and `src.evaluation`). "
   ]
  },
  {
   "cell_type": "code",
   "execution_count": 3,
   "metadata": {},
   "outputs": [],
   "source": [
    "# local files\n",
    "from src.utils import get_device\n",
    "from src.data import load_torch_data, to_dataloader, train_val_split\n",
    "from src.training import fit\n",
    "from src.evaluation import evaluate\n",
    "from src.visualize import plot_training_history"
   ]
  },
  {
   "cell_type": "markdown",
   "metadata": {},
   "source": [
    "### 1. Activate GPU\n",
    "If available. Note that this is not necessary, but it will speed up your training."
   ]
  },
  {
   "cell_type": "code",
   "execution_count": 4,
   "metadata": {},
   "outputs": [
    {
     "name": "stdout",
     "output_type": "stream",
     "text": [
      "Running pytorch version (2.5.1) with backend = mps\n"
     ]
    }
   ],
   "source": [
    "# Device will determine whether to run the training on GPU or CPU.\n",
    "DEVICE = get_device()"
   ]
  },
  {
   "cell_type": "markdown",
   "metadata": {},
   "source": [
    "### 2. Load data"
   ]
  },
  {
   "cell_type": "code",
   "execution_count": 5,
   "metadata": {},
   "outputs": [
    {
     "name": "stdout",
     "output_type": "stream",
     "text": [
      "Downloading http://yann.lecun.com/exdb/mnist/train-images-idx3-ubyte.gz\n",
      "Failed to download (trying next):\n",
      "HTTP Error 404: Not Found\n",
      "\n",
      "Downloading https://ossci-datasets.s3.amazonaws.com/mnist/train-images-idx3-ubyte.gz\n",
      "Downloading https://ossci-datasets.s3.amazonaws.com/mnist/train-images-idx3-ubyte.gz to data/MNIST/raw/train-images-idx3-ubyte.gz\n"
     ]
    },
    {
     "name": "stderr",
     "output_type": "stream",
     "text": [
      "100%|██████████| 9.91M/9.91M [00:01<00:00, 6.49MB/s]\n"
     ]
    },
    {
     "name": "stdout",
     "output_type": "stream",
     "text": [
      "Extracting data/MNIST/raw/train-images-idx3-ubyte.gz to data/MNIST/raw\n",
      "\n",
      "Downloading http://yann.lecun.com/exdb/mnist/train-labels-idx1-ubyte.gz\n",
      "Failed to download (trying next):\n",
      "HTTP Error 404: Not Found\n",
      "\n",
      "Downloading https://ossci-datasets.s3.amazonaws.com/mnist/train-labels-idx1-ubyte.gz\n",
      "Downloading https://ossci-datasets.s3.amazonaws.com/mnist/train-labels-idx1-ubyte.gz to data/MNIST/raw/train-labels-idx1-ubyte.gz\n"
     ]
    },
    {
     "name": "stderr",
     "output_type": "stream",
     "text": [
      "100%|██████████| 28.9k/28.9k [00:00<00:00, 265kB/s]\n"
     ]
    },
    {
     "name": "stdout",
     "output_type": "stream",
     "text": [
      "Extracting data/MNIST/raw/train-labels-idx1-ubyte.gz to data/MNIST/raw\n",
      "\n",
      "Downloading http://yann.lecun.com/exdb/mnist/t10k-images-idx3-ubyte.gz\n",
      "Failed to download (trying next):\n",
      "HTTP Error 404: Not Found\n",
      "\n",
      "Downloading https://ossci-datasets.s3.amazonaws.com/mnist/t10k-images-idx3-ubyte.gz\n",
      "Downloading https://ossci-datasets.s3.amazonaws.com/mnist/t10k-images-idx3-ubyte.gz to data/MNIST/raw/t10k-images-idx3-ubyte.gz\n"
     ]
    },
    {
     "name": "stderr",
     "output_type": "stream",
     "text": [
      "100%|██████████| 1.65M/1.65M [00:05<00:00, 280kB/s]\n"
     ]
    },
    {
     "name": "stdout",
     "output_type": "stream",
     "text": [
      "Extracting data/MNIST/raw/t10k-images-idx3-ubyte.gz to data/MNIST/raw\n",
      "\n",
      "Downloading http://yann.lecun.com/exdb/mnist/t10k-labels-idx1-ubyte.gz\n",
      "Failed to download (trying next):\n",
      "HTTP Error 404: Not Found\n",
      "\n",
      "Downloading https://ossci-datasets.s3.amazonaws.com/mnist/t10k-labels-idx1-ubyte.gz\n",
      "Downloading https://ossci-datasets.s3.amazonaws.com/mnist/t10k-labels-idx1-ubyte.gz to data/MNIST/raw/t10k-labels-idx1-ubyte.gz\n"
     ]
    },
    {
     "name": "stderr",
     "output_type": "stream",
     "text": [
      "100%|██████████| 4.54k/4.54k [00:00<00:00, 4.12MB/s]"
     ]
    },
    {
     "name": "stdout",
     "output_type": "stream",
     "text": [
      "Extracting data/MNIST/raw/t10k-labels-idx1-ubyte.gz to data/MNIST/raw\n",
      "\n"
     ]
    },
    {
     "name": "stderr",
     "output_type": "stream",
     "text": [
      "\n"
     ]
    },
    {
     "data": {
      "text/plain": [
       "'len(train_val)=60000, len(test)=10000'"
      ]
     },
     "execution_count": 5,
     "metadata": {},
     "output_type": "execute_result"
    }
   ],
   "source": [
    "# load the training/validation data\n",
    "train_val = load_torch_data(\n",
    "    dataset=\"MNIST\",\n",
    "    root = 'data',                     # The root directory where the dataset will be stored\n",
    "    download = True,                   # If the dataset is not found at root, it will be downloaded\n",
    "    train = True,                      # The train dataset (as opposed to the test dataset)\n",
    "    transform = transforms.ToTensor()  # transformations to be applied to the dataset (only cast to tensor)\n",
    ")\n",
    "\n",
    "# load the testing data\n",
    "test = load_torch_data(\n",
    "    dataset = \"MNIST\",\n",
    "    root = 'data',\n",
    "    download = True,\n",
    "    train = False,\n",
    "    transform = transforms.ToTensor()\n",
    ")\n",
    "\n",
    "f\"{len(train_val)=}, {len(test)=}\""
   ]
  },
  {
   "cell_type": "code",
   "execution_count": 6,
   "metadata": {},
   "outputs": [
    {
     "data": {
      "text/plain": [
       "'len(val)=12000, len(train)=48000'"
      ]
     },
     "execution_count": 6,
     "metadata": {},
     "output_type": "execute_result"
    }
   ],
   "source": [
    "# split training data in training and validation (just like train_test_split in sklearn)\n",
    "train, val = train_val_split(train_val, val_ratio=0.2, seed=42)\n",
    "\n",
    "f\"{len(val)=}, {len(train)=}\""
   ]
  },
  {
   "cell_type": "code",
   "execution_count": 7,
   "metadata": {},
   "outputs": [],
   "source": [
    "# create dataloders for easy batch loading during training\n",
    "train_loader = to_dataloader(train, batch_size = 64, shuffle = True)\n",
    "val_loader = to_dataloader(val, batch_size = 64, shuffle = False)\n",
    "test_loader = to_dataloader(test, batch_size = 64, shuffle = False)"
   ]
  },
  {
   "cell_type": "markdown",
   "metadata": {},
   "source": [
    "### 3. Inspect data"
   ]
  },
  {
   "cell_type": "code",
   "execution_count": 16,
   "metadata": {},
   "outputs": [
    {
     "name": "stdout",
     "output_type": "stream",
     "text": [
      "Default image shape: torch.Size([1, 28, 28])\n",
      "Reshaped image shape: torch.Size([28, 28])\n",
      "Total pixels: 784\n",
      "The label for this image: 7\n"
     ]
    },
    {
     "data": {
      "image/png": "[encoded data removed]",
      "text/plain": [
       "<Figure size 640x480 with 1 Axes>"
      ]
     },
     "metadata": {},
     "output_type": "display_data"
    }
   ],
   "source": [
    "# Pick a random example from the training set\n",
    "selection = random.randrange(len(train)-1)\n",
    "image, label = train[selection]\n",
    "\n",
    "# Plot the image\n",
    "print(f\"Default image shape: {image.shape}\")\n",
    "image = image.view([28,28])\n",
    "\n",
    "print(f\"Reshaped image shape: {image.shape}\")\n",
    "plt.imshow(image, cmap=\"gray\")\n",
    "\n",
    "print(f\"Total pixels: {image.shape[0] * image.shape[1]}\")\n",
    "\n",
    "# Print the label\n",
    "print(f\"The label for this image: {label}\")\n"
   ]
  },
  {
   "cell_type": "markdown",
   "metadata": {},
   "source": [
    "***\n",
    "\n",
    "### 4. Artificial neural network"
   ]
  },
  {
   "cell_type": "code",
   "execution_count": 17,
   "metadata": {},
   "outputs": [],
   "source": [
    "class MLP(nn.Module):\n",
    "\n",
    "  def __init__(self):\n",
    "    super().__init__()\n",
    "\n",
    "    # TODO: define layers\n",
    "    self.fc1 = nn.Linear(28*28, 500)\n",
    "    self.relu = nn.ReLU()\n",
    "    self.fc2 = nn.Linear(500, 10)\n",
    "  \n",
    "  def forward(self, x : torch.Tensor):\n",
    "\n",
    "    # TODO: implement forward pass\n",
    "    x = self.relu(self.fc1(x))\n",
    "    x = self.fc2(x)\n",
    "\n",
    "    return x"
   ]
  },
  {
   "cell_type": "markdown",
   "metadata": {},
   "source": [
    "### 5. Training hyperparameters"
   ]
  },
  {
   "cell_type": "code",
   "execution_count": 26,
   "metadata": {},
   "outputs": [],
   "source": [
    "LR = 0.01  # TODO: define the learning rate\n",
    "NUM_EPOCHS = 50 # TODO: define the number of epochs (i.e. passes over the dataset)\n",
    "criterion = nn.CrossEntropyLoss()  # The loss function"
   ]
  },
  {
   "cell_type": "markdown",
   "metadata": {},
   "source": [
    "Instantiate the model and optimizer"
   ]
  },
  {
   "cell_type": "code",
   "execution_count": 27,
   "metadata": {},
   "outputs": [],
   "source": [
    "model = MLP().to(DEVICE)   # Create an instance of the MLP model and move it to device (GPU or CPU)\n",
    "optimizer = torch.optim.SGD(model.parameters(), lr=LR) # The optimizer (here, SGD - you can also try ADAM)"
   ]
  },
  {
   "cell_type": "code",
   "execution_count": 28,
   "metadata": {},
   "outputs": [
    {
     "data": {
      "text/plain": [
       "MLP(\n",
       "  (fc1): Linear(in_features=784, out_features=500, bias=True)\n",
       "  (relu): ReLU()\n",
       "  (fc2): Linear(in_features=500, out_features=10, bias=True)\n",
       ")"
      ]
     },
     "execution_count": 28,
     "metadata": {},
     "output_type": "execute_result"
    }
   ],
   "source": [
    "model"
   ]
  },
  {
   "cell_type": "markdown",
   "metadata": {},
   "source": [
    "### 6. Training"
   ]
  },
  {
   "cell_type": "code",
   "execution_count": 29,
   "metadata": {},
   "outputs": [
    {
     "name": "stdout",
     "output_type": "stream",
     "text": [
      "Epoch [1/50]: Train Loss: 1.3068 | Train Accuracy: 74.81% | Val Loss: 0.6804 | Val Accuracy: 84.90%\n",
      "Epoch [2/50]: Train Loss: 0.5341 | Train Accuracy: 87.05% | Val Loss: 0.4631 | Val Accuracy: 88.14%\n",
      "Epoch [3/50]: Train Loss: 0.4137 | Train Accuracy: 89.02% | Val Loss: 0.3994 | Val Accuracy: 89.13%\n",
      "Epoch [4/50]: Train Loss: 0.3659 | Train Accuracy: 89.96% | Val Loss: 0.3669 | Val Accuracy: 89.54%\n",
      "Epoch [5/50]: Train Loss: 0.3385 | Train Accuracy: 90.57% | Val Loss: 0.3458 | Val Accuracy: 90.21%\n",
      "Epoch [6/50]: Train Loss: 0.3192 | Train Accuracy: 91.03% | Val Loss: 0.3292 | Val Accuracy: 90.79%\n",
      "Epoch [7/50]: Train Loss: 0.3040 | Train Accuracy: 91.46% | Val Loss: 0.3168 | Val Accuracy: 91.03%\n",
      "Epoch [8/50]: Train Loss: 0.2910 | Train Accuracy: 91.80% | Val Loss: 0.3065 | Val Accuracy: 91.28%\n",
      "Epoch [9/50]: Train Loss: 0.2796 | Train Accuracy: 92.13% | Val Loss: 0.2961 | Val Accuracy: 91.45%\n",
      "Epoch [10/50]: Train Loss: 0.2696 | Train Accuracy: 92.44% | Val Loss: 0.2878 | Val Accuracy: 91.91%\n",
      "Epoch [11/50]: Train Loss: 0.2602 | Train Accuracy: 92.70% | Val Loss: 0.2801 | Val Accuracy: 92.07%\n",
      "Epoch [12/50]: Train Loss: 0.2516 | Train Accuracy: 93.02% | Val Loss: 0.2705 | Val Accuracy: 92.29%\n",
      "Epoch [13/50]: Train Loss: 0.2433 | Train Accuracy: 93.19% | Val Loss: 0.2644 | Val Accuracy: 92.59%\n",
      "Epoch [14/50]: Train Loss: 0.2358 | Train Accuracy: 93.46% | Val Loss: 0.2567 | Val Accuracy: 92.89%\n",
      "Epoch [15/50]: Train Loss: 0.2286 | Train Accuracy: 93.65% | Val Loss: 0.2505 | Val Accuracy: 93.03%\n",
      "Epoch [16/50]: Train Loss: 0.2219 | Train Accuracy: 93.87% | Val Loss: 0.2439 | Val Accuracy: 93.24%\n",
      "Epoch [17/50]: Train Loss: 0.2153 | Train Accuracy: 94.04% | Val Loss: 0.2384 | Val Accuracy: 93.33%\n",
      "Epoch [18/50]: Train Loss: 0.2094 | Train Accuracy: 94.22% | Val Loss: 0.2324 | Val Accuracy: 93.58%\n",
      "Epoch [19/50]: Train Loss: 0.2036 | Train Accuracy: 94.35% | Val Loss: 0.2280 | Val Accuracy: 93.75%\n",
      "Epoch [20/50]: Train Loss: 0.1981 | Train Accuracy: 94.55% | Val Loss: 0.2217 | Val Accuracy: 93.82%\n",
      "Epoch [21/50]: Train Loss: 0.1927 | Train Accuracy: 94.65% | Val Loss: 0.2176 | Val Accuracy: 93.88%\n",
      "Epoch [22/50]: Train Loss: 0.1879 | Train Accuracy: 94.79% | Val Loss: 0.2133 | Val Accuracy: 94.03%\n",
      "Epoch [23/50]: Train Loss: 0.1831 | Train Accuracy: 94.93% | Val Loss: 0.2085 | Val Accuracy: 94.18%\n",
      "Epoch [24/50]: Train Loss: 0.1784 | Train Accuracy: 95.04% | Val Loss: 0.2039 | Val Accuracy: 94.28%\n",
      "Epoch [25/50]: Train Loss: 0.1739 | Train Accuracy: 95.14% | Val Loss: 0.2008 | Val Accuracy: 94.31%\n",
      "Epoch [26/50]: Train Loss: 0.1699 | Train Accuracy: 95.31% | Val Loss: 0.1964 | Val Accuracy: 94.42%\n",
      "Epoch [27/50]: Train Loss: 0.1656 | Train Accuracy: 95.36% | Val Loss: 0.1943 | Val Accuracy: 94.49%\n",
      "Epoch [28/50]: Train Loss: 0.1619 | Train Accuracy: 95.50% | Val Loss: 0.1887 | Val Accuracy: 94.62%\n",
      "Epoch [29/50]: Train Loss: 0.1580 | Train Accuracy: 95.62% | Val Loss: 0.1854 | Val Accuracy: 94.67%\n",
      "Epoch [30/50]: Train Loss: 0.1544 | Train Accuracy: 95.72% | Val Loss: 0.1823 | Val Accuracy: 94.76%\n",
      "Epoch [31/50]: Train Loss: 0.1510 | Train Accuracy: 95.84% | Val Loss: 0.1801 | Val Accuracy: 94.89%\n",
      "Epoch [32/50]: Train Loss: 0.1478 | Train Accuracy: 95.94% | Val Loss: 0.1758 | Val Accuracy: 94.92%\n",
      "Epoch [33/50]: Train Loss: 0.1445 | Train Accuracy: 96.05% | Val Loss: 0.1725 | Val Accuracy: 95.07%\n",
      "Epoch [34/50]: Train Loss: 0.1413 | Train Accuracy: 96.14% | Val Loss: 0.1699 | Val Accuracy: 95.17%\n",
      "Epoch [35/50]: Train Loss: 0.1383 | Train Accuracy: 96.20% | Val Loss: 0.1680 | Val Accuracy: 95.18%\n",
      "Epoch [36/50]: Train Loss: 0.1355 | Train Accuracy: 96.29% | Val Loss: 0.1655 | Val Accuracy: 95.12%\n",
      "Epoch [37/50]: Train Loss: 0.1328 | Train Accuracy: 96.39% | Val Loss: 0.1623 | Val Accuracy: 95.32%\n",
      "Epoch [38/50]: Train Loss: 0.1298 | Train Accuracy: 96.46% | Val Loss: 0.1612 | Val Accuracy: 95.28%\n",
      "Epoch [39/50]: Train Loss: 0.1273 | Train Accuracy: 96.53% | Val Loss: 0.1582 | Val Accuracy: 95.42%\n",
      "Epoch [40/50]: Train Loss: 0.1249 | Train Accuracy: 96.59% | Val Loss: 0.1551 | Val Accuracy: 95.45%\n",
      "Epoch [41/50]: Train Loss: 0.1223 | Train Accuracy: 96.67% | Val Loss: 0.1536 | Val Accuracy: 95.47%\n",
      "Epoch [42/50]: Train Loss: 0.1200 | Train Accuracy: 96.72% | Val Loss: 0.1519 | Val Accuracy: 95.59%\n",
      "Epoch [43/50]: Train Loss: 0.1179 | Train Accuracy: 96.78% | Val Loss: 0.1491 | Val Accuracy: 95.61%\n",
      "Epoch [44/50]: Train Loss: 0.1156 | Train Accuracy: 96.88% | Val Loss: 0.1473 | Val Accuracy: 95.72%\n",
      "Epoch [45/50]: Train Loss: 0.1134 | Train Accuracy: 96.90% | Val Loss: 0.1451 | Val Accuracy: 95.78%\n",
      "Epoch [46/50]: Train Loss: 0.1114 | Train Accuracy: 96.99% | Val Loss: 0.1441 | Val Accuracy: 95.89%\n",
      "Epoch [47/50]: Train Loss: 0.1095 | Train Accuracy: 97.00% | Val Loss: 0.1419 | Val Accuracy: 96.01%\n",
      "Epoch [48/50]: Train Loss: 0.1075 | Train Accuracy: 97.09% | Val Loss: 0.1402 | Val Accuracy: 95.97%\n",
      "Epoch [49/50]: Train Loss: 0.1056 | Train Accuracy: 97.15% | Val Loss: 0.1386 | Val Accuracy: 96.00%\n",
      "Epoch [50/50]: Train Loss: 0.1037 | Train Accuracy: 97.22% | Val Loss: 0.1371 | Val Accuracy: 96.04%\n"
     ]
    }
   ],
   "source": [
    "model, history = fit(\n",
    "    model,\n",
    "    train_loader = train_loader,\n",
    "    val_loader = val_loader,\n",
    "    device = DEVICE,\n",
    "    optimizer = optimizer,\n",
    "    criterion = criterion,\n",
    "    num_epochs = NUM_EPOCHS\n",
    ")"
   ]
  },
  {
   "cell_type": "markdown",
   "metadata": {},
   "source": [
    "### 7. Plot loss and accuracy"
   ]
  },
  {
   "cell_type": "code",
   "execution_count": 30,
   "metadata": {},
   "outputs": [
    {
     "data": {
      "image/png": "[encoded data removed]",
      "text/plain": [
       "<Figure size 1200x600 with 2 Axes>"
      ]
     },
     "metadata": {},
     "output_type": "display_data"
    }
   ],
   "source": [
    "plot_training_history(history)"
   ]
  },
  {
   "cell_type": "markdown",
   "metadata": {},
   "source": [
    "### 8. Evaluate"
   ]
  },
  {
   "cell_type": "code",
   "execution_count": 31,
   "metadata": {},
   "outputs": [
    {
     "name": "stdout",
     "output_type": "stream",
     "text": [
      "Evaluation Results:\n",
      "Loss: 0.1015, Accuracy: 97.27%\n",
      "\n",
      "Classification Report:\n",
      "              precision    recall  f1-score   support\n",
      "\n",
      "           0       0.98      0.99      0.98      4735\n",
      "           1       0.98      0.99      0.98      5383\n",
      "           2       0.97      0.97      0.97      4762\n",
      "           3       0.97      0.96      0.97      4886\n",
      "           4       0.97      0.97      0.97      4681\n",
      "           5       0.98      0.96      0.97      4368\n",
      "           6       0.98      0.98      0.98      4752\n",
      "           7       0.98      0.98      0.98      4983\n",
      "           8       0.97      0.96      0.97      4674\n",
      "           9       0.96      0.96      0.96      4776\n",
      "\n",
      "    accuracy                           0.97     48000\n",
      "   macro avg       0.97      0.97      0.97     48000\n",
      "weighted avg       0.97      0.97      0.97     48000\n",
      "\n"
     ]
    }
   ],
   "source": [
    "evaluate(\n",
    "    model = model,\n",
    "    data_loader = train_loader,  # evaluate on training data\n",
    "    criterion = criterion,\n",
    "    device = DEVICE,\n",
    ")"
   ]
  },
  {
   "cell_type": "code",
   "execution_count": 32,
   "metadata": {},
   "outputs": [
    {
     "name": "stdout",
     "output_type": "stream",
     "text": [
      "Evaluation Results:\n",
      "Loss: 0.1371, Accuracy: 96.04%\n",
      "\n",
      "Classification Report:\n",
      "              precision    recall  f1-score   support\n",
      "\n",
      "           0       0.97      0.97      0.97      1188\n",
      "           1       0.98      0.98      0.98      1359\n",
      "           2       0.96      0.95      0.95      1196\n",
      "           3       0.95      0.95      0.95      1245\n",
      "           4       0.95      0.96      0.95      1161\n",
      "           5       0.95      0.96      0.96      1053\n",
      "           6       0.97      0.97      0.97      1166\n",
      "           7       0.96      0.98      0.97      1282\n",
      "           8       0.96      0.95      0.96      1177\n",
      "           9       0.94      0.92      0.93      1173\n",
      "\n",
      "    accuracy                           0.96     12000\n",
      "   macro avg       0.96      0.96      0.96     12000\n",
      "weighted avg       0.96      0.96      0.96     12000\n",
      "\n"
     ]
    }
   ],
   "source": [
    "evaluate(\n",
    "    model = model,\n",
    "    data_loader = val_loader,  # evaluate on validation data\n",
    "    criterion = criterion,\n",
    "    device = DEVICE,\n",
    ")"
   ]
  },
  {
   "cell_type": "code",
   "execution_count": 33,
   "metadata": {},
   "outputs": [
    {
     "name": "stdout",
     "output_type": "stream",
     "text": [
      "Evaluation Results:\n",
      "Loss: 0.1178, Accuracy: 96.50%\n",
      "\n",
      "Classification Report:\n",
      "              precision    recall  f1-score   support\n",
      "\n",
      "           0       0.97      0.98      0.98       980\n",
      "           1       0.98      0.98      0.98      1135\n",
      "           2       0.97      0.96      0.97      1032\n",
      "           3       0.95      0.97      0.96      1010\n",
      "           4       0.97      0.97      0.97       982\n",
      "           5       0.97      0.95      0.96       892\n",
      "           6       0.96      0.97      0.97       958\n",
      "           7       0.96      0.96      0.96      1028\n",
      "           8       0.96      0.95      0.96       974\n",
      "           9       0.96      0.94      0.95      1009\n",
      "\n",
      "    accuracy                           0.96     10000\n",
      "   macro avg       0.96      0.96      0.96     10000\n",
      "weighted avg       0.97      0.96      0.96     10000\n",
      "\n"
     ]
    }
   ],
   "source": [
    "evaluate(\n",
    "    model = model,\n",
    "    data_loader = test_loader,  # evaluate on testing data\n",
    "    criterion = criterion,\n",
    "    device = DEVICE,\n",
    ")"
   ]
  },
  {
   "cell_type": "code",
   "execution_count": null,
   "metadata": {},
   "outputs": [],
   "source": []
  }
 ],
 "metadata": {
  "kernelspec": {
   "display_name": "aiml25-ma1",
   "language": "python",
   "name": "python3"
  },
  "language_info": {
   "codemirror_mode": {
    "name": "ipython",
    "version": 3
   },
   "file_extension": ".py",
   "mimetype": "text/x-python",
   "name": "python",
   "nbconvert_exporter": "python",
   "pygments_lexer": "ipython3",
   "version": "3.13.2"
  }
 },
 "nbformat": 4,
 "nbformat_minor": 2
}
